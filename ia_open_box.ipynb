{
  "nbformat": 4,
  "nbformat_minor": 0,
  "metadata": {
    "colab": {
      "provenance": [],
      "authorship_tag": "ABX9TyPnxtLRvMXVZhfUjIvF6I0m",
      "include_colab_link": true
    },
    "kernelspec": {
      "name": "python3",
      "display_name": "Python 3"
    },
    "language_info": {
      "name": "python"
    }
  },
  "cells": [
    {
      "cell_type": "markdown",
      "metadata": {
        "id": "view-in-github",
        "colab_type": "text"
      },
      "source": [
        "<a href=\"https://colab.research.google.com/github/arturbernardo/estudos_ia/blob/main/ia_open_box.ipynb\" target=\"_parent\"><img src=\"https://colab.research.google.com/assets/colab-badge.svg\" alt=\"Open In Colab\"/></a>"
      ]
    },
    {
      "cell_type": "markdown",
      "source": [],
      "metadata": {
        "id": "JCNkRqFqQBwh"
      }
    },
    {
      "cell_type": "code",
      "execution_count": 34,
      "metadata": {
        "id": "ofhBngzJM5K_"
      },
      "outputs": [],
      "source": [
        "import sys\n",
        "import numpy as np\n",
        "import matplotlib"
      ]
    },
    {
      "cell_type": "code",
      "source": [
        "# Neuronio na unha\n",
        "inputs = [1, 2, 2.1, 2.5]\n",
        "weights = [3.1, 2.1, -0.5]\n",
        "bias = 3\n",
        "\n",
        "outputs = inputs[0]*weights[0] + inputs[1]*weights[1] + inputs[2]*weights[2] + inputs[3]*weights[3] + bias\n",
        "outputs"
      ],
      "metadata": {
        "colab": {
          "base_uri": "https://localhost:8080/"
        },
        "id": "PxkUC5klIIEW",
        "outputId": "06bdb4ef-3a1a-49e1-b1ec-f54062bdd0a2"
      },
      "execution_count": 18,
      "outputs": [
        {
          "output_type": "execute_result",
          "data": {
            "text/plain": [
              "11.75"
            ]
          },
          "metadata": {},
          "execution_count": 18
        }
      ]
    },
    {
      "cell_type": "code",
      "source": [
        "# Calculando camada neural na unha\n",
        "\n",
        "inputs = [1, 2, 2.1, 2.5]\n",
        "\n",
        "weights = [[3.1, 2.1, -0.5, 1.0],\n",
        "          [3.1, 2.1, -0.5, 1.0],\n",
        "          [3.1, 2.1, -0.5, 1.0]]\n",
        "\n",
        "biases = [1, 3, 0.5]\n",
        "\n",
        "layer_outputs = []\n",
        "for neuron_weights, neuron_bias in zip(weights, biases):\n",
        "  neuron_output = 0\n",
        "  for n_input, weight in zip(inputs, neuron_weights):\n",
        "    neuron_output += n_input+weight\n",
        "  neuron_output += neuron_bias\n",
        "  layer_outputs.append(neuron_output)\n",
        "\n",
        "print(layer_outputs)\n"
      ],
      "metadata": {
        "id": "iTjmjaCDJDXh",
        "colab": {
          "base_uri": "https://localhost:8080/"
        },
        "outputId": "88c86614-6822-4b51-e48d-f8538c971478"
      },
      "execution_count": 17,
      "outputs": [
        {
          "output_type": "stream",
          "name": "stdout",
          "text": [
            "[14.299999999999999, 16.299999999999997, 13.799999999999999]\n"
          ]
        }
      ]
    },
    {
      "cell_type": "markdown",
      "source": [
        "![matrizes.png](data:image/png;base64,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)\n",
        "\n",
        "Multiplica-se desta forma:\n",
        "\n",
        "![multiplicacao.png](data:image/png;base64,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)\n",
        "\n",
        "A ordem muda o resultado.\n",
        "A matriz inicial define o formato da saída.\n",
        "A matriz inicia deve ser \"inclinada\", com isso se multiplica 1x5 e 2x7, os valores se somam e temos o primeiro valor da resposta, 19."
      ],
      "metadata": {
        "id": "03op6d-3T-qA"
      }
    },
    {
      "cell_type": "code",
      "source": [
        "matrix = [[1,2,3],\n",
        "          [4,5,6]]\n",
        "\n",
        "x = matrix * 3\n",
        "x"
      ],
      "metadata": {
        "colab": {
          "base_uri": "https://localhost:8080/"
        },
        "id": "scKrLkDZXz7U",
        "outputId": "a8743364-5dba-495a-f4e1-6ec4db5e2d06"
      },
      "execution_count": 19,
      "outputs": [
        {
          "output_type": "execute_result",
          "data": {
            "text/plain": [
              "[[1, 2, 3], [4, 5, 6], [1, 2, 3], [4, 5, 6], [1, 2, 3], [4, 5, 6]]"
            ]
          },
          "metadata": {},
          "execution_count": 19
        }
      ]
    },
    {
      "cell_type": "code",
      "source": [
        "matrix = [[1,2,3],\n",
        "          [4,5,6]]\n",
        "\n",
        "output = np.dot(3, matrix)\n",
        "output"
      ],
      "metadata": {
        "colab": {
          "base_uri": "https://localhost:8080/"
        },
        "id": "0pyQsxt2YJRw",
        "outputId": "257acb40-3ff8-482d-ee08-66da8ad0a93e"
      },
      "execution_count": 22,
      "outputs": [
        {
          "output_type": "execute_result",
          "data": {
            "text/plain": [
              "array([[ 3,  6,  9],\n",
              "       [12, 15, 18]])"
            ]
          },
          "metadata": {},
          "execution_count": 22
        }
      ]
    },
    {
      "cell_type": "code",
      "source": [
        "matrix = [[1,2,3],\n",
        "          [4,5,6]]\n",
        "\n",
        "output = np.dot([3,1], matrix)\n",
        "output"
      ],
      "metadata": {
        "colab": {
          "base_uri": "https://localhost:8080/"
        },
        "id": "p_fxnomfYXIa",
        "outputId": "f8ce33c7-697a-4060-b5ba-ed26bcb8475c"
      },
      "execution_count": 21,
      "outputs": [
        {
          "output_type": "execute_result",
          "data": {
            "text/plain": [
              "array([ 7, 11, 15])"
            ]
          },
          "metadata": {},
          "execution_count": 21
        }
      ]
    },
    {
      "cell_type": "code",
      "source": [
        "# dot é a multiplicação entre elementos que estão na mesma posição. input[x] * weights[x]\n",
        "inputs = [1, 2, 2.1, 2.5]\n",
        "weights = [3.1, 2.1, -0.5, 1.0]\n",
        "biases = [1, 3, 0.5]\n",
        "\n",
        "output = np.dot(weights, inputs) + bias\n",
        "output"
      ],
      "metadata": {
        "colab": {
          "base_uri": "https://localhost:8080/"
        },
        "id": "rzwX_t2ANGwl",
        "outputId": "800c86b6-4463-453d-cc71-b67c70608561"
      },
      "execution_count": 23,
      "outputs": [
        {
          "output_type": "execute_result",
          "data": {
            "text/plain": [
              "11.75"
            ]
          },
          "metadata": {},
          "execution_count": 23
        }
      ]
    },
    {
      "cell_type": "code",
      "source": [
        "# Calculando camada neural com dot\n",
        "\n",
        "inputs = [1, 2, 2.1, 2.5]\n",
        "\n",
        "weights = [[3.1, 2.1, -0.5, 1.0],\n",
        "          [3.1, 2.1, -0.5, 1.0],\n",
        "          [3.1, 2.1, -0.5, 1.0]]\n",
        "\n",
        "biases = [1, 3, 0.5]\n",
        "output = np.dot(weights, inputs) + bias\n",
        "\n",
        "print(output)"
      ],
      "metadata": {
        "colab": {
          "base_uri": "https://localhost:8080/"
        },
        "id": "MBo_orlBQE_x",
        "outputId": "dc2f6373-ed55-4f05-f05d-352aa70e1124"
      },
      "execution_count": 24,
      "outputs": [
        {
          "output_type": "stream",
          "name": "stdout",
          "text": [
            "[11.75 11.75 11.75]\n"
          ]
        }
      ]
    },
    {
      "cell_type": "code",
      "source": [
        "# Calculando camada neural com dot\n",
        "\n",
        "inputs = [1, 2, 2.1, 2.5]\n",
        "\n",
        "weights = [[3.1, 2.1, -0.5, 1.0],\n",
        "          [3.1, 2.1, -0.5, 1.0],\n",
        "          [3.1, 2.1, -0.5, 1.0]]\n",
        "\n",
        "biases = [1, 3, 0.5]\n",
        "output = np.dot(weights, inputs) + bias\n",
        "\n",
        "print(output)"
      ],
      "metadata": {
        "id": "GRf9VP8Vckgf"
      },
      "execution_count": null,
      "outputs": []
    },
    {
      "cell_type": "markdown",
      "source": [
        "# NN"
      ],
      "metadata": {
        "id": "rJtNYoCmQBE1"
      }
    },
    {
      "cell_type": "code",
      "source": [
        "import numpy as np\n",
        "import pandas as pd\n",
        "from matplotlib import pyplot as plt\n",
        "from google.colab import drive\n"
      ],
      "metadata": {
        "id": "5Ym-SdEuQDpf"
      },
      "execution_count": 7,
      "outputs": []
    },
    {
      "cell_type": "code",
      "source": [
        "drive.mount('/content/drive')"
      ],
      "metadata": {
        "colab": {
          "base_uri": "https://localhost:8080/"
        },
        "id": "3WEDV7Uo8YWu",
        "outputId": "e66f7cb1-143f-4fac-dc1d-b5433076885a"
      },
      "execution_count": 22,
      "outputs": [
        {
          "output_type": "stream",
          "name": "stdout",
          "text": [
            "Mounted at /content/drive\n"
          ]
        }
      ]
    },
    {
      "cell_type": "code",
      "source": [
        "mnist_data = pd.read_csv('/content/drive/MyDrive/data/MINST/mnist_train.csv', encoding=\"ISO-8859-1\", sep = ',')"
      ],
      "metadata": {
        "id": "C9TuN8tLQp8T"
      },
      "execution_count": 23,
      "outputs": []
    },
    {
      "cell_type": "code",
      "source": [
        "mnist_data.head()"
      ],
      "metadata": {
        "colab": {
          "base_uri": "https://localhost:8080/",
          "height": 236
        },
        "id": "Cnx2ePZ681Fp",
        "outputId": "b8c669a3-b6b6-4914-8480-904994cdbdce"
      },
      "execution_count": 24,
      "outputs": [
        {
          "output_type": "execute_result",
          "data": {
            "text/plain": [
              "   5  0  0.1  0.2  0.3  0.4  0.5  0.6  0.7  0.8  ...  0.608  0.609  0.610  \\\n",
              "0  0  0    0    0    0    0    0    0    0    0  ...      0      0      0   \n",
              "1  4  0    0    0    0    0    0    0    0    0  ...      0      0      0   \n",
              "2  1  0    0    0    0    0    0    0    0    0  ...      0      0      0   \n",
              "3  9  0    0    0    0    0    0    0    0    0  ...      0      0      0   \n",
              "4  2  0    0    0    0    0    0    0    0    0  ...      0      0      0   \n",
              "\n",
              "   0.611  0.612  0.613  0.614  0.615  0.616  0.617  \n",
              "0      0      0      0      0      0      0      0  \n",
              "1      0      0      0      0      0      0      0  \n",
              "2      0      0      0      0      0      0      0  \n",
              "3      0      0      0      0      0      0      0  \n",
              "4      0      0      0      0      0      0      0  \n",
              "\n",
              "[5 rows x 785 columns]"
            ],
            "text/html": [
              "\n",
              "  <div id=\"df-09f0a017-fedd-4043-a167-5ab7161592cd\" class=\"colab-df-container\">\n",
              "    <div>\n",
              "<style scoped>\n",
              "    .dataframe tbody tr th:only-of-type {\n",
              "        vertical-align: middle;\n",
              "    }\n",
              "\n",
              "    .dataframe tbody tr th {\n",
              "        vertical-align: top;\n",
              "    }\n",
              "\n",
              "    .dataframe thead th {\n",
              "        text-align: right;\n",
              "    }\n",
              "</style>\n",
              "<table border=\"1\" class=\"dataframe\">\n",
              "  <thead>\n",
              "    <tr style=\"text-align: right;\">\n",
              "      <th></th>\n",
              "      <th>5</th>\n",
              "      <th>0</th>\n",
              "      <th>0.1</th>\n",
              "      <th>0.2</th>\n",
              "      <th>0.3</th>\n",
              "      <th>0.4</th>\n",
              "      <th>0.5</th>\n",
              "      <th>0.6</th>\n",
              "      <th>0.7</th>\n",
              "      <th>0.8</th>\n",
              "      <th>...</th>\n",
              "      <th>0.608</th>\n",
              "      <th>0.609</th>\n",
              "      <th>0.610</th>\n",
              "      <th>0.611</th>\n",
              "      <th>0.612</th>\n",
              "      <th>0.613</th>\n",
              "      <th>0.614</th>\n",
              "      <th>0.615</th>\n",
              "      <th>0.616</th>\n",
              "      <th>0.617</th>\n",
              "    </tr>\n",
              "  </thead>\n",
              "  <tbody>\n",
              "    <tr>\n",
              "      <th>0</th>\n",
              "      <td>0</td>\n",
              "      <td>0</td>\n",
              "      <td>0</td>\n",
              "      <td>0</td>\n",
              "      <td>0</td>\n",
              "      <td>0</td>\n",
              "      <td>0</td>\n",
              "      <td>0</td>\n",
              "      <td>0</td>\n",
              "      <td>0</td>\n",
              "      <td>...</td>\n",
              "      <td>0</td>\n",
              "      <td>0</td>\n",
              "      <td>0</td>\n",
              "      <td>0</td>\n",
              "      <td>0</td>\n",
              "      <td>0</td>\n",
              "      <td>0</td>\n",
              "      <td>0</td>\n",
              "      <td>0</td>\n",
              "      <td>0</td>\n",
              "    </tr>\n",
              "    <tr>\n",
              "      <th>1</th>\n",
              "      <td>4</td>\n",
              "      <td>0</td>\n",
              "      <td>0</td>\n",
              "      <td>0</td>\n",
              "      <td>0</td>\n",
              "      <td>0</td>\n",
              "      <td>0</td>\n",
              "      <td>0</td>\n",
              "      <td>0</td>\n",
              "      <td>0</td>\n",
              "      <td>...</td>\n",
              "      <td>0</td>\n",
              "      <td>0</td>\n",
              "      <td>0</td>\n",
              "      <td>0</td>\n",
              "      <td>0</td>\n",
              "      <td>0</td>\n",
              "      <td>0</td>\n",
              "      <td>0</td>\n",
              "      <td>0</td>\n",
              "      <td>0</td>\n",
              "    </tr>\n",
              "    <tr>\n",
              "      <th>2</th>\n",
              "      <td>1</td>\n",
              "      <td>0</td>\n",
              "      <td>0</td>\n",
              "      <td>0</td>\n",
              "      <td>0</td>\n",
              "      <td>0</td>\n",
              "      <td>0</td>\n",
              "      <td>0</td>\n",
              "      <td>0</td>\n",
              "      <td>0</td>\n",
              "      <td>...</td>\n",
              "      <td>0</td>\n",
              "      <td>0</td>\n",
              "      <td>0</td>\n",
              "      <td>0</td>\n",
              "      <td>0</td>\n",
              "      <td>0</td>\n",
              "      <td>0</td>\n",
              "      <td>0</td>\n",
              "      <td>0</td>\n",
              "      <td>0</td>\n",
              "    </tr>\n",
              "    <tr>\n",
              "      <th>3</th>\n",
              "      <td>9</td>\n",
              "      <td>0</td>\n",
              "      <td>0</td>\n",
              "      <td>0</td>\n",
              "      <td>0</td>\n",
              "      <td>0</td>\n",
              "      <td>0</td>\n",
              "      <td>0</td>\n",
              "      <td>0</td>\n",
              "      <td>0</td>\n",
              "      <td>...</td>\n",
              "      <td>0</td>\n",
              "      <td>0</td>\n",
              "      <td>0</td>\n",
              "      <td>0</td>\n",
              "      <td>0</td>\n",
              "      <td>0</td>\n",
              "      <td>0</td>\n",
              "      <td>0</td>\n",
              "      <td>0</td>\n",
              "      <td>0</td>\n",
              "    </tr>\n",
              "    <tr>\n",
              "      <th>4</th>\n",
              "      <td>2</td>\n",
              "      <td>0</td>\n",
              "      <td>0</td>\n",
              "      <td>0</td>\n",
              "      <td>0</td>\n",
              "      <td>0</td>\n",
              "      <td>0</td>\n",
              "      <td>0</td>\n",
              "      <td>0</td>\n",
              "      <td>0</td>\n",
              "      <td>...</td>\n",
              "      <td>0</td>\n",
              "      <td>0</td>\n",
              "      <td>0</td>\n",
              "      <td>0</td>\n",
              "      <td>0</td>\n",
              "      <td>0</td>\n",
              "      <td>0</td>\n",
              "      <td>0</td>\n",
              "      <td>0</td>\n",
              "      <td>0</td>\n",
              "    </tr>\n",
              "  </tbody>\n",
              "</table>\n",
              "<p>5 rows × 785 columns</p>\n",
              "</div>\n",
              "    <div class=\"colab-df-buttons\">\n",
              "\n",
              "  <div class=\"colab-df-container\">\n",
              "    <button class=\"colab-df-convert\" onclick=\"convertToInteractive('df-09f0a017-fedd-4043-a167-5ab7161592cd')\"\n",
              "            title=\"Convert this dataframe to an interactive table.\"\n",
              "            style=\"display:none;\">\n",
              "\n",
              "  <svg xmlns=\"http://www.w3.org/2000/svg\" height=\"24px\" viewBox=\"0 -960 960 960\">\n",
              "    <path d=\"M120-120v-720h720v720H120Zm60-500h600v-160H180v160Zm220 220h160v-160H400v160Zm0 220h160v-160H400v160ZM180-400h160v-160H180v160Zm440 0h160v-160H620v160ZM180-180h160v-160H180v160Zm440 0h160v-160H620v160Z\"/>\n",
              "  </svg>\n",
              "    </button>\n",
              "\n",
              "  <style>\n",
              "    .colab-df-container {\n",
              "      display:flex;\n",
              "      gap: 12px;\n",
              "    }\n",
              "\n",
              "    .colab-df-convert {\n",
              "      background-color: #E8F0FE;\n",
              "      border: none;\n",
              "      border-radius: 50%;\n",
              "      cursor: pointer;\n",
              "      display: none;\n",
              "      fill: #1967D2;\n",
              "      height: 32px;\n",
              "      padding: 0 0 0 0;\n",
              "      width: 32px;\n",
              "    }\n",
              "\n",
              "    .colab-df-convert:hover {\n",
              "      background-color: #E2EBFA;\n",
              "      box-shadow: 0px 1px 2px rgba(60, 64, 67, 0.3), 0px 1px 3px 1px rgba(60, 64, 67, 0.15);\n",
              "      fill: #174EA6;\n",
              "    }\n",
              "\n",
              "    .colab-df-buttons div {\n",
              "      margin-bottom: 4px;\n",
              "    }\n",
              "\n",
              "    [theme=dark] .colab-df-convert {\n",
              "      background-color: #3B4455;\n",
              "      fill: #D2E3FC;\n",
              "    }\n",
              "\n",
              "    [theme=dark] .colab-df-convert:hover {\n",
              "      background-color: #434B5C;\n",
              "      box-shadow: 0px 1px 3px 1px rgba(0, 0, 0, 0.15);\n",
              "      filter: drop-shadow(0px 1px 2px rgba(0, 0, 0, 0.3));\n",
              "      fill: #FFFFFF;\n",
              "    }\n",
              "  </style>\n",
              "\n",
              "    <script>\n",
              "      const buttonEl =\n",
              "        document.querySelector('#df-09f0a017-fedd-4043-a167-5ab7161592cd button.colab-df-convert');\n",
              "      buttonEl.style.display =\n",
              "        google.colab.kernel.accessAllowed ? 'block' : 'none';\n",
              "\n",
              "      async function convertToInteractive(key) {\n",
              "        const element = document.querySelector('#df-09f0a017-fedd-4043-a167-5ab7161592cd');\n",
              "        const dataTable =\n",
              "          await google.colab.kernel.invokeFunction('convertToInteractive',\n",
              "                                                    [key], {});\n",
              "        if (!dataTable) return;\n",
              "\n",
              "        const docLinkHtml = 'Like what you see? Visit the ' +\n",
              "          '<a target=\"_blank\" href=https://colab.research.google.com/notebooks/data_table.ipynb>data table notebook</a>'\n",
              "          + ' to learn more about interactive tables.';\n",
              "        element.innerHTML = '';\n",
              "        dataTable['output_type'] = 'display_data';\n",
              "        await google.colab.output.renderOutput(dataTable, element);\n",
              "        const docLink = document.createElement('div');\n",
              "        docLink.innerHTML = docLinkHtml;\n",
              "        element.appendChild(docLink);\n",
              "      }\n",
              "    </script>\n",
              "  </div>\n",
              "\n",
              "\n",
              "<div id=\"df-e6bcc93d-903b-467a-818d-badd04625dac\">\n",
              "  <button class=\"colab-df-quickchart\" onclick=\"quickchart('df-e6bcc93d-903b-467a-818d-badd04625dac')\"\n",
              "            title=\"Suggest charts.\"\n",
              "            style=\"display:none;\">\n",
              "\n",
              "<svg xmlns=\"http://www.w3.org/2000/svg\" height=\"24px\"viewBox=\"0 0 24 24\"\n",
              "     width=\"24px\">\n",
              "    <g>\n",
              "        <path d=\"M19 3H5c-1.1 0-2 .9-2 2v14c0 1.1.9 2 2 2h14c1.1 0 2-.9 2-2V5c0-1.1-.9-2-2-2zM9 17H7v-7h2v7zm4 0h-2V7h2v10zm4 0h-2v-4h2v4z\"/>\n",
              "    </g>\n",
              "</svg>\n",
              "  </button>\n",
              "\n",
              "<style>\n",
              "  .colab-df-quickchart {\n",
              "      --bg-color: #E8F0FE;\n",
              "      --fill-color: #1967D2;\n",
              "      --hover-bg-color: #E2EBFA;\n",
              "      --hover-fill-color: #174EA6;\n",
              "      --disabled-fill-color: #AAA;\n",
              "      --disabled-bg-color: #DDD;\n",
              "  }\n",
              "\n",
              "  [theme=dark] .colab-df-quickchart {\n",
              "      --bg-color: #3B4455;\n",
              "      --fill-color: #D2E3FC;\n",
              "      --hover-bg-color: #434B5C;\n",
              "      --hover-fill-color: #FFFFFF;\n",
              "      --disabled-bg-color: #3B4455;\n",
              "      --disabled-fill-color: #666;\n",
              "  }\n",
              "\n",
              "  .colab-df-quickchart {\n",
              "    background-color: var(--bg-color);\n",
              "    border: none;\n",
              "    border-radius: 50%;\n",
              "    cursor: pointer;\n",
              "    display: none;\n",
              "    fill: var(--fill-color);\n",
              "    height: 32px;\n",
              "    padding: 0;\n",
              "    width: 32px;\n",
              "  }\n",
              "\n",
              "  .colab-df-quickchart:hover {\n",
              "    background-color: var(--hover-bg-color);\n",
              "    box-shadow: 0 1px 2px rgba(60, 64, 67, 0.3), 0 1px 3px 1px rgba(60, 64, 67, 0.15);\n",
              "    fill: var(--button-hover-fill-color);\n",
              "  }\n",
              "\n",
              "  .colab-df-quickchart-complete:disabled,\n",
              "  .colab-df-quickchart-complete:disabled:hover {\n",
              "    background-color: var(--disabled-bg-color);\n",
              "    fill: var(--disabled-fill-color);\n",
              "    box-shadow: none;\n",
              "  }\n",
              "\n",
              "  .colab-df-spinner {\n",
              "    border: 2px solid var(--fill-color);\n",
              "    border-color: transparent;\n",
              "    border-bottom-color: var(--fill-color);\n",
              "    animation:\n",
              "      spin 1s steps(1) infinite;\n",
              "  }\n",
              "\n",
              "  @keyframes spin {\n",
              "    0% {\n",
              "      border-color: transparent;\n",
              "      border-bottom-color: var(--fill-color);\n",
              "      border-left-color: var(--fill-color);\n",
              "    }\n",
              "    20% {\n",
              "      border-color: transparent;\n",
              "      border-left-color: var(--fill-color);\n",
              "      border-top-color: var(--fill-color);\n",
              "    }\n",
              "    30% {\n",
              "      border-color: transparent;\n",
              "      border-left-color: var(--fill-color);\n",
              "      border-top-color: var(--fill-color);\n",
              "      border-right-color: var(--fill-color);\n",
              "    }\n",
              "    40% {\n",
              "      border-color: transparent;\n",
              "      border-right-color: var(--fill-color);\n",
              "      border-top-color: var(--fill-color);\n",
              "    }\n",
              "    60% {\n",
              "      border-color: transparent;\n",
              "      border-right-color: var(--fill-color);\n",
              "    }\n",
              "    80% {\n",
              "      border-color: transparent;\n",
              "      border-right-color: var(--fill-color);\n",
              "      border-bottom-color: var(--fill-color);\n",
              "    }\n",
              "    90% {\n",
              "      border-color: transparent;\n",
              "      border-bottom-color: var(--fill-color);\n",
              "    }\n",
              "  }\n",
              "</style>\n",
              "\n",
              "  <script>\n",
              "    async function quickchart(key) {\n",
              "      const quickchartButtonEl =\n",
              "        document.querySelector('#' + key + ' button');\n",
              "      quickchartButtonEl.disabled = true;  // To prevent multiple clicks.\n",
              "      quickchartButtonEl.classList.add('colab-df-spinner');\n",
              "      try {\n",
              "        const charts = await google.colab.kernel.invokeFunction(\n",
              "            'suggestCharts', [key], {});\n",
              "      } catch (error) {\n",
              "        console.error('Error during call to suggestCharts:', error);\n",
              "      }\n",
              "      quickchartButtonEl.classList.remove('colab-df-spinner');\n",
              "      quickchartButtonEl.classList.add('colab-df-quickchart-complete');\n",
              "    }\n",
              "    (() => {\n",
              "      let quickchartButtonEl =\n",
              "        document.querySelector('#df-e6bcc93d-903b-467a-818d-badd04625dac button');\n",
              "      quickchartButtonEl.style.display =\n",
              "        google.colab.kernel.accessAllowed ? 'block' : 'none';\n",
              "    })();\n",
              "  </script>\n",
              "</div>\n",
              "    </div>\n",
              "  </div>\n"
            ]
          },
          "metadata": {},
          "execution_count": 24
        }
      ]
    },
    {
      "cell_type": "code",
      "source": [
        "data = np.array(mnist_data)\n",
        "m, n = data.shape\n",
        "np.random.shuffle(data) # shuffle before splitting into dev and training sets\n",
        "\n",
        "data_dev = data[0:1000].T\n",
        "Y_dev = data_dev[0]\n",
        "X_dev = data_dev[1:n]\n",
        "X_dev = X_dev / 255.\n",
        "\n",
        "data_train = data[1000:m].T\n",
        "Y_train = data_train[0]\n",
        "X_train = data_train[1:n]\n",
        "X_train = X_train / 255.\n",
        "_,m_train = X_train.shape"
      ],
      "metadata": {
        "id": "UNeOMvDu9Epj"
      },
      "execution_count": 35,
      "outputs": []
    },
    {
      "cell_type": "code",
      "source": [
        "Y_train"
      ],
      "metadata": {
        "colab": {
          "base_uri": "https://localhost:8080/"
        },
        "id": "WNXoHZsDNNCC",
        "outputId": "7b8f3f30-2ca3-4cc6-f452-278fb663bce1"
      },
      "execution_count": 36,
      "outputs": [
        {
          "output_type": "execute_result",
          "data": {
            "text/plain": [
              "array([1, 8, 8, ..., 6, 9, 1])"
            ]
          },
          "metadata": {},
          "execution_count": 36
        }
      ]
    },
    {
      "cell_type": "code",
      "source": [
        "def init_params():\n",
        "    W1 = np.random.rand(10, 784) - 0.5\n",
        "    b1 = np.random.rand(10, 1) - 0.5\n",
        "    W2 = np.random.rand(10, 10) - 0.5\n",
        "    b2 = np.random.rand(10, 1) - 0.5\n",
        "    return W1, b1, W2, b2\n",
        "\n",
        "def ReLU(Z):\n",
        "    return np.maximum(Z, 0)\n",
        "\n",
        "def softmax(Z):\n",
        "    A = np.exp(Z) / sum(np.exp(Z))\n",
        "    return A\n",
        "\n",
        "def forward_prop(W1, b1, W2, b2, X):\n",
        "    Z1 = W1.dot(X) + b1\n",
        "    A1 = ReLU(Z1)\n",
        "    Z2 = W2.dot(A1) + b2\n",
        "    A2 = softmax(Z2)\n",
        "    return Z1, A1, Z2, A2\n",
        "\n",
        "def ReLU_deriv(Z):\n",
        "    return Z > 0\n",
        "\n",
        "def one_hot(Y):\n",
        "    one_hot_Y = np.zeros((Y.size, Y.max() + 1))\n",
        "    one_hot_Y[np.arange(Y.size), Y] = 1\n",
        "    one_hot_Y = one_hot_Y.T\n",
        "    return one_hot_Y\n",
        "\n",
        "def backward_prop(Z1, A1, Z2, A2, W1, W2, X, Y):\n",
        "    one_hot_Y = one_hot(Y)\n",
        "    dZ2 = A2 - one_hot_Y\n",
        "    dW2 = 1 / m * dZ2.dot(A1.T)\n",
        "    db2 = 1 / m * np.sum(dZ2)\n",
        "    dZ1 = W2.T.dot(dZ2) * ReLU_deriv(Z1)\n",
        "    dW1 = 1 / m * dZ1.dot(X.T)\n",
        "    db1 = 1 / m * np.sum(dZ1)\n",
        "    return dW1, db1, dW2, db2\n",
        "\n",
        "def update_params(W1, b1, W2, b2, dW1, db1, dW2, db2, alpha):\n",
        "    W1 = W1 - alpha * dW1\n",
        "    b1 = b1 - alpha * db1\n",
        "    W2 = W2 - alpha * dW2\n",
        "    b2 = b2 - alpha * db2\n",
        "    return W1, b1, W2, b2"
      ],
      "metadata": {
        "id": "oMN_IgKTAvdM"
      },
      "execution_count": 37,
      "outputs": []
    },
    {
      "cell_type": "code",
      "source": [
        "def get_predictions(A2):\n",
        "    return np.argmax(A2, 0)\n",
        "\n",
        "def get_accuracy(predictions, Y):\n",
        "    print(predictions, Y)\n",
        "    return np.sum(predictions == Y) / Y.size\n",
        "\n",
        "def gradient_descent(X, Y, alpha, iterations):\n",
        "    W1, b1, W2, b2 = init_params()\n",
        "    for i in range(iterations):\n",
        "        Z1, A1, Z2, A2 = forward_prop(W1, b1, W2, b2, X)\n",
        "        dW1, db1, dW2, db2 = backward_prop(Z1, A1, Z2, A2, W1, W2, X, Y)\n",
        "        W1, b1, W2, b2 = update_params(W1, b1, W2, b2, dW1, db1, dW2, db2, alpha)\n",
        "        if i % 10 == 0:\n",
        "            print(\"Iteration: \", i)\n",
        "            predictions = get_predictions(A2)\n",
        "            print(get_accuracy(predictions, Y))\n",
        "    return W1, b1, W2, b2"
      ],
      "metadata": {
        "id": "oZSDRoyJLLLF"
      },
      "execution_count": 38,
      "outputs": []
    },
    {
      "cell_type": "code",
      "source": [
        "W1, b1, W2, b2 = gradient_descent(X_train, Y_train, 0.10, 500)"
      ],
      "metadata": {
        "colab": {
          "base_uri": "https://localhost:8080/"
        },
        "id": "qOj4814VKpIm",
        "outputId": "523893d9-a743-476b-dcf4-e01d974d30e3"
      },
      "execution_count": 39,
      "outputs": [
        {
          "output_type": "stream",
          "name": "stdout",
          "text": [
            "Iteration:  0\n",
            "[9 1 6 ... 0 6 6] [1 8 8 ... 6 9 1]\n",
            "0.07134019220664757\n",
            "Iteration:  10\n",
            "[3 0 3 ... 0 6 3] [1 8 8 ... 6 9 1]\n",
            "0.14701944100747472\n",
            "Iteration:  20\n",
            "[3 0 3 ... 0 6 3] [1 8 8 ... 6 9 1]\n",
            "0.19227444532958185\n",
            "Iteration:  30\n",
            "[3 0 3 ... 0 6 3] [1 8 8 ... 6 9 1]\n",
            "0.2211732402244106\n",
            "Iteration:  40\n",
            "[6 0 3 ... 0 6 3] [1 8 8 ... 6 9 1]\n",
            "0.2459194223630909\n",
            "Iteration:  50\n",
            "[1 1 3 ... 0 1 1] [1 8 8 ... 6 9 1]\n",
            "0.28166579094560923\n",
            "Iteration:  60\n",
            "[1 1 6 ... 2 1 1] [1 8 8 ... 6 9 1]\n",
            "0.31376802996660963\n",
            "Iteration:  70\n",
            "[1 1 6 ... 2 1 1] [1 8 8 ... 6 9 1]\n",
            "0.3419888472685978\n",
            "Iteration:  80\n",
            "[1 3 6 ... 2 1 1] [1 8 8 ... 6 9 1]\n",
            "0.3695316869777454\n",
            "Iteration:  90\n",
            "[1 3 3 ... 2 1 1] [1 8 8 ... 6 9 1]\n",
            "0.3971762233258191\n",
            "Iteration:  100\n",
            "[1 8 3 ... 2 1 1] [1 8 8 ... 6 9 1]\n",
            "0.42356650112713773\n",
            "Iteration:  110\n",
            "[1 8 3 ... 2 1 1] [1 8 8 ... 6 9 1]\n",
            "0.44756690791369347\n",
            "Iteration:  120\n",
            "[1 8 3 ... 2 1 1] [1 8 8 ... 6 9 1]\n",
            "0.47009271343582093\n",
            "Iteration:  130\n",
            "[1 8 3 ... 6 1 1] [1 8 8 ... 6 9 1]\n",
            "0.48994050746622825\n",
            "Iteration:  140\n",
            "[1 8 3 ... 6 1 1] [1 8 8 ... 6 9 1]\n",
            "0.5112968016407058\n",
            "Iteration:  150\n",
            "[1 8 3 ... 6 1 1] [1 8 8 ... 6 9 1]\n",
            "0.5330937812505296\n",
            "Iteration:  160\n",
            "[1 8 2 ... 6 1 1] [1 8 8 ... 6 9 1]\n",
            "0.5558907778097933\n",
            "Iteration:  170\n",
            "[1 8 2 ... 6 1 1] [1 8 8 ... 6 9 1]\n",
            "0.5781114934151427\n",
            "Iteration:  180\n",
            "[1 8 8 ... 6 1 1] [1 8 8 ... 6 9 1]\n",
            "0.5957728097086391\n",
            "Iteration:  190\n",
            "[1 8 8 ... 6 1 1] [1 8 8 ... 6 9 1]\n",
            "0.6109764572280886\n",
            "Iteration:  200\n",
            "[1 8 8 ... 6 1 1] [1 8 8 ... 6 9 1]\n",
            "0.6251800877980983\n",
            "Iteration:  210\n",
            "[1 8 8 ... 6 1 1] [1 8 8 ... 6 9 1]\n",
            "0.6390786284513297\n",
            "Iteration:  220\n",
            "[1 8 8 ... 6 1 1] [1 8 8 ... 6 9 1]\n",
            "0.6552144951609349\n",
            "Iteration:  230\n",
            "[1 8 8 ... 6 1 1] [1 8 8 ... 6 9 1]\n",
            "0.6726046204172952\n",
            "Iteration:  240\n",
            "[1 8 8 ... 6 1 1] [1 8 8 ... 6 9 1]\n",
            "0.6896388074374142\n",
            "Iteration:  250\n",
            "[1 8 8 ... 6 1 1] [1 8 8 ... 6 9 1]\n",
            "0.7046390616790115\n",
            "Iteration:  260\n",
            "[1 8 8 ... 6 1 1] [1 8 8 ... 6 9 1]\n",
            "0.7175036865031611\n",
            "Iteration:  270\n",
            "[1 8 8 ... 6 1 1] [1 8 8 ... 6 9 1]\n",
            "0.727266563840065\n",
            "Iteration:  280\n",
            "[1 8 8 ... 6 1 1] [1 8 8 ... 6 9 1]\n",
            "0.7367751995796539\n",
            "Iteration:  290\n",
            "[1 8 8 ... 6 1 1] [1 8 8 ... 6 9 1]\n",
            "0.745385515008729\n",
            "Iteration:  300\n",
            "[1 8 8 ... 6 1 1] [1 8 8 ... 6 9 1]\n",
            "0.7530636112476483\n",
            "Iteration:  310\n",
            "[1 8 8 ... 6 1 1] [1 8 8 ... 6 9 1]\n",
            "0.7600806793335481\n",
            "Iteration:  320\n",
            "[1 8 8 ... 6 1 1] [1 8 8 ... 6 9 1]\n",
            "0.766080781030187\n",
            "Iteration:  330\n",
            "[1 8 8 ... 6 1 1] [1 8 8 ... 6 9 1]\n",
            "0.7717079950507636\n",
            "Iteration:  340\n",
            "[1 8 8 ... 6 1 1] [1 8 8 ... 6 9 1]\n",
            "0.7772165629925931\n",
            "Iteration:  350\n",
            "[1 8 8 ... 6 1 1] [1 8 8 ... 6 9 1]\n",
            "0.7823691926981813\n",
            "Iteration:  360\n",
            "[1 8 8 ... 6 1 1] [1 8 8 ... 6 9 1]\n",
            "0.786809945931287\n",
            "Iteration:  370\n",
            "[1 8 8 ... 6 1 1] [1 8 8 ... 6 9 1]\n",
            "0.7911998508449296\n",
            "Iteration:  380\n",
            "[1 8 8 ... 6 1 1] [1 8 8 ... 6 9 1]\n",
            "0.795403311920541\n",
            "Iteration:  390\n",
            "[1 8 8 ... 6 1 1] [1 8 8 ... 6 9 1]\n",
            "0.7990643909218801\n",
            "Iteration:  400\n",
            "[1 8 8 ... 6 1 1] [1 8 8 ... 6 9 1]\n",
            "0.8023695316869778\n",
            "Iteration:  410\n",
            "[1 8 8 ... 6 1 1] [1 8 8 ... 6 9 1]\n",
            "0.8058950151697486\n",
            "Iteration:  420\n",
            "[1 8 8 ... 6 1 1] [1 8 8 ... 6 9 1]\n",
            "0.8090476109764573\n",
            "Iteration:  430\n",
            "[1 8 8 ... 6 1 1] [1 8 8 ... 6 9 1]\n",
            "0.8119459651858506\n",
            "Iteration:  440\n",
            "[1 8 8 ... 6 1 1] [1 8 8 ... 6 9 1]\n",
            "0.8145561789182868\n",
            "Iteration:  450\n",
            "[1 8 8 ... 6 1 1] [1 8 8 ... 6 9 1]\n",
            "0.8170816454516179\n",
            "Iteration:  460\n",
            "[1 8 8 ... 6 1 1] [1 8 8 ... 6 9 1]\n",
            "0.8191664265496026\n",
            "Iteration:  470\n",
            "[1 8 8 ... 6 1 1] [1 8 8 ... 6 9 1]\n",
            "0.8211495110086612\n",
            "Iteration:  480\n",
            "[1 8 8 ... 6 1 1] [1 8 8 ... 6 9 1]\n",
            "0.8231495449075408\n",
            "Iteration:  490\n",
            "[1 8 8 ... 6 1 1] [1 8 8 ... 6 9 1]\n",
            "0.8253190732046306\n"
          ]
        }
      ]
    },
    {
      "cell_type": "code",
      "source": [
        "def make_predictions(X, W1, b1, W2, b2):\n",
        "    _, _, _, A2 = forward_prop(W1, b1, W2, b2, X)\n",
        "    predictions = get_predictions(A2)\n",
        "    return predictions\n",
        "\n",
        "def test_prediction(index, W1, b1, W2, b2):\n",
        "    current_image = X_train[:, index, None]\n",
        "    prediction = make_predictions(X_train[:, index, None], W1, b1, W2, b2)\n",
        "    label = Y_train[index]\n",
        "    print(\"Prediction: \", prediction)\n",
        "    print(\"Label: \", label)\n",
        "\n",
        "    current_image = current_image.reshape((28, 28)) * 255\n",
        "    plt.gray()\n",
        "    plt.imshow(current_image, interpolation='nearest')\n",
        "    plt.show()"
      ],
      "metadata": {
        "id": "t0yn_uFfE5Ga"
      },
      "execution_count": 40,
      "outputs": []
    },
    {
      "cell_type": "code",
      "source": [
        "test_prediction(0, W1, b1, W2, b2)\n",
        "test_prediction(1, W1, b1, W2, b2)\n",
        "test_prediction(2, W1, b1, W2, b2)\n",
        "test_prediction(3, W1, b1, W2, b2)"
      ],
      "metadata": {
        "colab": {
          "base_uri": "https://localhost:8080/",
          "height": 1000
        },
        "id": "QqwnYxiJGi9v",
        "outputId": "e525f0c4-d754-45b9-823c-37e64fd5269f"
      },
      "execution_count": 41,
      "outputs": [
        {
          "output_type": "stream",
          "name": "stdout",
          "text": [
            "Prediction:  [1]\n",
            "Label:  1\n"
          ]
        },
        {
          "output_type": "display_data",
          "data": {
            "text/plain": [
              "<Figure size 640x480 with 1 Axes>"
            ],
            "image/png": "[encoded data removed]"
          },
          "metadata": {}
        },
        {
          "output_type": "stream",
          "name": "stdout",
          "text": [
            "Prediction:  [8]\n",
            "Label:  8\n"
          ]
        },
        {
          "output_type": "display_data",
          "data": {
            "text/plain": [
              "<Figure size 640x480 with 1 Axes>"
            ],
            "image/png": "[encoded data removed]"
          },
          "metadata": {}
        },
        {
          "output_type": "stream",
          "name": "stdout",
          "text": [
            "Prediction:  [8]\n",
            "Label:  8\n"
          ]
        },
        {
          "output_type": "display_data",
          "data": {
            "text/plain": [
              "<Figure size 640x480 with 1 Axes>"
            ],
            "image/png": "[encoded data removed]"
          },
          "metadata": {}
        },
        {
          "output_type": "stream",
          "name": "stdout",
          "text": [
            "Prediction:  [4]\n",
            "Label:  4\n"
          ]
        },
        {
          "output_type": "display_data",
          "data": {
            "text/plain": [
              "<Figure size 640x480 with 1 Axes>"
            ],
            "image/png": "[encoded data removed]"
          },
          "metadata": {}
        }
      ]
    },
    {
      "cell_type": "code",
      "source": [
        "dev_predictions = make_predictions(X_dev, W1, b1, W2, b2)\n",
        "get_accuracy(dev_predictions, Y_dev)"
      ],
      "metadata": {
        "colab": {
          "base_uri": "https://localhost:8080/"
        },
        "id": "XKYGGGrCOAAx",
        "outputId": "c5bf00e1-e25d-4684-9546-daf717701cde"
      },
      "execution_count": 42,
      "outputs": [
        {
          "output_type": "stream",
          "name": "stdout",
          "text": [
            "[0 8 8 1 6 4 2 5 3 1 0 0 8 5 1 0 4 6 6 8 1 0 9 7 6 3 1 8 8 0 5 0 9 0 2 5 0\n",
            " 0 2 3 9 8 6 0 2 1 3 5 1 7 4 3 4 9 3 4 7 2 5 4 3 0 0 1 3 0 4 2 5 4 9 1 7 1\n",
            " 6 8 6 6 3 4 5 3 9 1 8 8 2 8 0 4 1 3 3 8 2 1 8 4 0 8 5 3 7 8 7 6 3 3 3 6 1\n",
            " 2 4 2 3 2 8 2 4 0 5 1 3 7 5 4 1 5 5 9 9 9 9 1 1 1 2 1 2 0 7 4 4 6 4 7 3 0\n",
            " 4 1 7 0 0 6 1 3 6 2 7 4 5 5 4 1 2 0 3 4 1 8 1 4 0 6 8 1 8 3 0 4 8 0 2 9 3\n",
            " 5 5 5 7 1 4 8 2 5 2 1 0 3 1 9 0 3 7 0 4 3 4 3 7 8 6 7 5 4 6 0 2 4 4 9 0 6\n",
            " 6 3 1 6 6 8 9 6 9 9 1 8 6 9 9 1 9 9 9 5 9 2 3 4 0 7 8 0 2 5 1 7 6 3 4 0 2\n",
            " 4 2 2 2 1 2 1 7 2 7 2 9 1 0 6 1 7 2 1 3 0 9 3 4 8 4 5 2 2 2 1 3 8 5 7 8 4\n",
            " 1 3 1 0 8 3 6 4 1 9 5 2 3 2 4 1 4 1 7 5 4 7 3 5 0 5 1 2 3 7 9 1 9 5 6 3 7\n",
            " 7 4 8 8 0 0 2 8 9 0 8 1 6 3 8 0 7 1 1 4 0 7 5 1 1 3 4 4 6 2 7 1 6 4 4 4 5\n",
            " 4 0 3 9 9 8 2 4 0 7 4 9 8 9 3 4 1 0 2 2 2 1 2 4 0 0 6 6 1 0 5 0 4 5 4 8 7\n",
            " 1 1 0 8 3 3 8 1 2 8 0 7 7 4 3 0 8 5 8 6 1 8 6 8 5 0 6 9 8 8 1 2 2 1 8 1 7\n",
            " 8 7 4 1 3 6 4 9 9 3 5 8 9 3 8 5 0 8 8 6 7 8 2 3 3 6 5 0 9 3 9 2 1 3 5 4 7\n",
            " 7 9 4 4 6 0 3 1 4 6 3 5 1 0 5 0 4 8 0 6 9 3 2 8 1 6 6 2 7 9 7 4 4 4 3 3 2\n",
            " 8 0 9 0 1 5 9 7 1 3 7 8 6 8 8 5 6 4 5 9 3 4 7 1 2 5 1 6 4 9 2 4 2 8 6 3 9\n",
            " 4 2 9 7 7 5 7 1 1 4 1 7 6 9 8 2 9 0 8 6 3 6 7 2 1 8 3 2 0 1 8 4 4 8 1 5 6\n",
            " 3 0 2 6 4 7 5 6 4 5 2 0 9 6 8 7 1 0 9 1 1 1 1 4 8 6 1 1 7 9 3 2 3 2 8 1 2\n",
            " 5 3 7 9 7 9 5 7 6 3 9 3 8 1 0 2 5 6 3 1 7 8 9 6 7 3 4 7 0 9 0 0 5 7 0 6 0\n",
            " 3 5 3 9 8 6 9 2 8 6 5 5 8 6 7 1 9 5 9 4 8 4 8 1 5 6 1 6 0 4 2 0 3 3 7 4 1\n",
            " 7 7 8 9 0 2 6 6 6 4 0 5 8 7 0 9 6 6 9 9 5 9 2 1 5 5 9 8 1 0 1 8 5 0 6 6 5\n",
            " 3 4 1 7 1 7 2 2 8 7 2 1 7 4 1 4 0 9 9 3 8 7 6 1 3 0 7 3 1 8 4 2 1 0 7 4 1\n",
            " 9 8 1 0 7 9 3 4 0 2 4 8 3 4 4 0 1 5 7 5 6 1 9 8 4 9 1 1 2 0 3 8 5 4 2 9 9\n",
            " 1 7 4 2 1 6 5 7 4 9 0 4 3 8 4 3 1 3 2 8 5 3 0 9 3 7 7 9 5 0 6 7 1 0 7 7 8\n",
            " 8 5 3 4 4 5 1 2 6 2 8 1 7 7 3 3 9 2 8 5 9 3 3 9 7 4 0 8 0 8 7 0 1 4 9 4 2\n",
            " 5 7 7 4 9 5 0 8 7 7 3 4 0 9 1 2 4 8 0 5 7 9 9 3 3 8 7 1 1 3 6 6 4 1 2 3 9\n",
            " 8 4 2 5 8 5 3 6 1 4 4 3 1 4 0 1 8 5 0 7 9 9 1 9 4 1 2 7 7 5 6 6 4 4 7 2 8\n",
            " 2 3 1 8 1 1 1 1 4 3 2 7 4 6 8 7 6 5 6 6 0 6 0 9 7 7 2 6 6 3 2 1 1 9 3 2 0\n",
            " 1] [0 8 8 1 6 4 2 5 3 1 0 0 8 5 1 0 4 6 6 8 1 0 9 3 6 3 1 8 8 0 5 0 9 0 2 5 4\n",
            " 0 2 3 9 8 6 0 2 1 3 5 8 7 2 3 4 9 3 4 7 2 3 4 2 5 0 1 3 5 4 2 5 4 4 1 7 1\n",
            " 6 8 6 4 3 4 5 5 9 3 8 8 2 8 0 8 1 3 3 5 2 1 3 4 0 3 5 3 9 8 7 6 3 3 3 6 1\n",
            " 2 4 8 3 2 8 3 4 5 5 1 3 7 5 4 1 8 5 9 9 7 9 9 1 1 2 1 4 0 7 4 4 6 2 7 3 0\n",
            " 4 2 7 6 0 6 1 3 6 2 7 4 5 5 4 1 6 6 3 4 1 8 1 4 0 6 0 1 8 3 2 4 8 5 2 9 3\n",
            " 5 5 5 7 1 4 8 2 5 2 1 0 3 1 5 0 3 2 0 4 3 4 3 7 8 6 7 5 4 6 0 7 9 4 9 0 5\n",
            " 6 3 1 6 6 8 4 6 9 9 1 8 6 9 9 1 3 9 4 5 9 3 3 4 0 7 7 0 3 5 2 7 6 3 4 0 2\n",
            " 9 2 2 2 1 8 1 7 2 7 7 9 1 0 6 1 7 2 1 3 0 4 3 4 8 4 7 2 2 2 1 8 8 5 7 3 4\n",
            " 1 3 1 0 1 5 6 4 1 9 5 2 3 2 4 1 9 1 7 5 4 7 3 5 0 5 1 2 3 7 9 1 4 0 6 3 7\n",
            " 7 4 8 8 0 0 6 9 3 0 8 1 6 3 8 0 9 1 1 4 0 7 5 1 1 3 4 4 6 2 7 1 6 9 4 4 5\n",
            " 4 0 3 9 9 8 3 4 0 9 9 9 8 8 8 4 1 0 2 2 4 1 2 4 8 0 2 6 1 0 5 0 4 5 4 8 7\n",
            " 1 1 0 8 3 3 8 1 2 8 0 2 3 4 3 0 8 5 8 6 1 8 6 8 5 0 5 9 8 8 1 2 2 1 5 1 7\n",
            " 8 7 4 1 3 6 4 9 4 3 5 8 9 3 5 5 0 8 3 6 7 8 2 3 3 6 5 9 4 3 9 3 1 3 5 4 7\n",
            " 7 9 4 4 6 0 3 1 4 6 3 5 1 0 5 0 4 8 0 6 9 3 2 4 1 6 6 2 2 9 7 4 4 4 3 3 2\n",
            " 8 0 9 0 1 5 9 7 1 3 7 8 6 8 8 5 2 4 5 9 5 4 7 1 6 5 1 6 4 9 6 9 3 8 6 3 9\n",
            " 9 4 8 7 7 1 7 1 1 4 1 7 6 4 8 2 4 0 8 6 3 6 7 2 1 3 3 2 0 1 9 4 9 8 1 5 6\n",
            " 3 0 2 6 4 2 5 6 4 5 2 0 9 6 8 7 1 0 9 1 1 1 7 4 8 6 1 8 7 7 3 2 3 2 8 1 2\n",
            " 5 3 9 9 7 9 5 9 6 3 9 3 5 1 0 2 5 6 3 1 7 8 7 6 7 3 4 7 0 9 0 0 5 0 2 6 0\n",
            " 3 8 3 9 6 6 7 2 8 6 5 5 8 3 7 1 7 5 9 4 1 4 8 1 5 6 7 6 0 4 3 0 3 3 7 4 1\n",
            " 7 7 8 9 0 2 6 6 6 4 0 5 1 7 0 9 2 6 7 9 5 9 2 1 3 5 9 8 1 0 1 8 5 0 6 4 5\n",
            " 3 4 1 7 1 7 8 2 8 7 2 1 7 4 1 9 0 8 7 3 5 7 5 1 3 0 7 3 1 8 4 2 1 0 7 5 1\n",
            " 9 8 1 0 7 9 3 4 0 2 4 8 3 4 4 0 1 5 9 5 6 1 8 8 4 9 1 1 2 0 3 8 3 4 2 9 9\n",
            " 1 7 9 3 1 6 5 7 4 9 0 9 3 8 4 3 1 3 2 8 5 3 0 9 3 7 7 9 5 0 6 7 1 0 7 7 8\n",
            " 2 5 3 9 4 5 1 2 6 2 8 1 7 7 2 3 9 2 8 4 9 5 3 9 7 4 9 2 5 8 7 0 1 4 4 4 2\n",
            " 5 7 7 4 9 5 0 4 7 7 3 4 0 9 1 2 4 8 0 5 7 9 9 3 5 1 7 7 1 3 6 6 4 1 2 3 9\n",
            " 3 4 2 5 5 5 3 6 1 4 4 3 1 4 0 1 8 5 0 7 7 9 7 7 4 1 2 7 7 5 6 6 4 4 7 6 8\n",
            " 2 5 1 8 1 1 8 8 4 3 2 7 4 6 8 7 6 5 6 6 0 6 0 9 7 1 2 6 6 3 2 1 1 7 2 2 0\n",
            " 1]\n"
          ]
        },
        {
          "output_type": "execute_result",
          "data": {
            "text/plain": [
              "0.843"
            ]
          },
          "metadata": {},
          "execution_count": 42
        }
      ]
    }
  ]
}